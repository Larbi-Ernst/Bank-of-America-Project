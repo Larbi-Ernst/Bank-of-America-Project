{
 "cells": [
  {
   "cell_type": "markdown",
   "metadata": {
    "slideshow": {
     "slide_type": "slide"
    }
   },
   "source": [
    "# 2011 Census Data"
   ]
  },
  {
   "cell_type": "code",
   "execution_count": 5,
   "metadata": {
    "slideshow": {
     "slide_type": "-"
    }
   },
   "outputs": [],
   "source": [
    "import pandas as pd\n",
    "%matplotlib inline"
   ]
  },
  {
   "cell_type": "markdown",
   "metadata": {
    "slideshow": {
     "slide_type": "subslide"
    }
   },
   "source": [
    "## Task\n",
    "\n",
    "Read the \"microdata\" csv file into a `pandas` dataframe.\n",
    "\n",
    "* How many people does this data set contain?\n",
    "* What information about them do we have about them?\n",
    "* Are there any difficulties with using this data set?"
   ]
  },
  {
   "cell_type": "code",
   "execution_count": 7,
   "metadata": {
    "slideshow": {
     "slide_type": "subslide"
    }
   },
   "outputs": [
    {
     "name": "stdout",
     "output_type": "stream",
     "text": [
      "Ammount of values 569741\n",
      "median \n",
      " Person ID                    7679353.0\n",
      "Family Composition                 2.0\n",
      "Population Base                    1.0\n",
      "Sex                                2.0\n",
      "Age                                4.0\n",
      "Marital Status                     2.0\n",
      "Student                            2.0\n",
      "Country of Birth                   1.0\n",
      "Health                             2.0\n",
      "Ethnic Group                       1.0\n",
      "Religion                           2.0\n",
      "Economic Activity                  1.0\n",
      "Occupation                         3.0\n",
      "Industry                           4.0\n",
      "Hours worked per week             -9.0\n",
      "Approximated Social Grade          2.0\n",
      "Name: 0.5, dtype: float64\n",
      "Upper Quartile \n",
      " Person ID                    7821788.0\n",
      "Family Composition                 3.0\n",
      "Population Base                    1.0\n",
      "Sex                                2.0\n",
      "Age                                6.0\n",
      "Marital Status                     2.0\n",
      "Student                            2.0\n",
      "Country of Birth                   1.0\n",
      "Health                             2.0\n",
      "Ethnic Group                       1.0\n",
      "Religion                           2.0\n",
      "Economic Activity                  5.0\n",
      "Occupation                         6.0\n",
      "Industry                           8.0\n",
      "Hours worked per week              3.0\n",
      "Approximated Social Grade          3.0\n",
      "Name: 0.75, dtype: float64\n",
      "Lower Quartile \n",
      " Person ID                    7536918.0\n",
      "Family Composition                 2.0\n",
      "Population Base                    1.0\n",
      "Sex                                1.0\n",
      "Age                                2.0\n",
      "Marital Status                     1.0\n",
      "Student                            2.0\n",
      "Country of Birth                   1.0\n",
      "Health                             1.0\n",
      "Ethnic Group                       1.0\n",
      "Religion                           1.0\n",
      "Economic Activity                  1.0\n",
      "Occupation                        -9.0\n",
      "Industry                          -9.0\n",
      "Hours worked per week             -9.0\n",
      "Approximated Social Grade          1.0\n",
      "Name: 0.25, dtype: float64\n"
     ]
    }
   ],
   "source": [
    "data = pd.read_csv(\"2011 Census Microdata Teaching File.csv\")\n",
    "#data = pd.read_csv(\"2011 Census Nanodata Teaching File.csv\")\n",
    "Length = len(data)\n",
    "median = data.quantile(0.5)\n",
    "UQ = data.quantile(0.75)\n",
    "LQ = data.quantile(0.25)\n",
    "print(\"Ammount of values\",Length)\n",
    "print(\"median \\n\",median)\n",
    "print(\"Upper Quartile \\n\",UQ)\n",
    "print(\"Lower Quartile \\n\",LQ)"
   ]
  },
  {
   "cell_type": "code",
   "execution_count": 4,
   "metadata": {
    "slideshow": {
     "slide_type": "subslide"
    }
   },
   "outputs": [
    {
     "data": {
      "text/html": [
       "<div>\n",
       "<style>\n",
       "    .dataframe thead tr:only-child th {\n",
       "        text-align: right;\n",
       "    }\n",
       "\n",
       "    .dataframe thead th {\n",
       "        text-align: left;\n",
       "    }\n",
       "\n",
       "    .dataframe tbody tr th {\n",
       "        vertical-align: top;\n",
       "    }\n",
       "</style>\n",
       "<table border=\"1\" class=\"dataframe\">\n",
       "  <thead>\n",
       "    <tr style=\"text-align: right;\">\n",
       "      <th></th>\n",
       "      <th>Person ID</th>\n",
       "      <th>Region</th>\n",
       "      <th>Residence Type</th>\n",
       "      <th>Family Composition</th>\n",
       "      <th>Population Base</th>\n",
       "      <th>Sex</th>\n",
       "      <th>Age</th>\n",
       "      <th>Marital Status</th>\n",
       "      <th>Student</th>\n",
       "      <th>Country of Birth</th>\n",
       "      <th>Health</th>\n",
       "      <th>Ethnic Group</th>\n",
       "      <th>Religion</th>\n",
       "      <th>Economic Activity</th>\n",
       "      <th>Occupation</th>\n",
       "      <th>Industry</th>\n",
       "      <th>Hours worked per week</th>\n",
       "      <th>Approximated Social Grade</th>\n",
       "    </tr>\n",
       "  </thead>\n",
       "  <tbody>\n",
       "    <tr>\n",
       "      <th>569736</th>\n",
       "      <td>7946020</td>\n",
       "      <td>W92000004</td>\n",
       "      <td>H</td>\n",
       "      <td>1</td>\n",
       "      <td>1</td>\n",
       "      <td>1</td>\n",
       "      <td>5</td>\n",
       "      <td>1</td>\n",
       "      <td>2</td>\n",
       "      <td>1</td>\n",
       "      <td>4</td>\n",
       "      <td>1</td>\n",
       "      <td>9</td>\n",
       "      <td>1</td>\n",
       "      <td>8</td>\n",
       "      <td>8</td>\n",
       "      <td>3</td>\n",
       "      <td>3</td>\n",
       "    </tr>\n",
       "    <tr>\n",
       "      <th>569737</th>\n",
       "      <td>7944310</td>\n",
       "      <td>W92000004</td>\n",
       "      <td>H</td>\n",
       "      <td>3</td>\n",
       "      <td>1</td>\n",
       "      <td>1</td>\n",
       "      <td>3</td>\n",
       "      <td>1</td>\n",
       "      <td>2</td>\n",
       "      <td>1</td>\n",
       "      <td>2</td>\n",
       "      <td>1</td>\n",
       "      <td>1</td>\n",
       "      <td>1</td>\n",
       "      <td>7</td>\n",
       "      <td>4</td>\n",
       "      <td>3</td>\n",
       "      <td>4</td>\n",
       "    </tr>\n",
       "    <tr>\n",
       "      <th>569738</th>\n",
       "      <td>7945374</td>\n",
       "      <td>W92000004</td>\n",
       "      <td>H</td>\n",
       "      <td>3</td>\n",
       "      <td>1</td>\n",
       "      <td>1</td>\n",
       "      <td>1</td>\n",
       "      <td>1</td>\n",
       "      <td>1</td>\n",
       "      <td>1</td>\n",
       "      <td>1</td>\n",
       "      <td>1</td>\n",
       "      <td>2</td>\n",
       "      <td>-9</td>\n",
       "      <td>-9</td>\n",
       "      <td>-9</td>\n",
       "      <td>-9</td>\n",
       "      <td>-9</td>\n",
       "    </tr>\n",
       "    <tr>\n",
       "      <th>569739</th>\n",
       "      <td>7944768</td>\n",
       "      <td>W92000004</td>\n",
       "      <td>H</td>\n",
       "      <td>1</td>\n",
       "      <td>1</td>\n",
       "      <td>2</td>\n",
       "      <td>8</td>\n",
       "      <td>5</td>\n",
       "      <td>2</td>\n",
       "      <td>1</td>\n",
       "      <td>3</td>\n",
       "      <td>1</td>\n",
       "      <td>9</td>\n",
       "      <td>5</td>\n",
       "      <td>9</td>\n",
       "      <td>2</td>\n",
       "      <td>-9</td>\n",
       "      <td>4</td>\n",
       "    </tr>\n",
       "    <tr>\n",
       "      <th>569740</th>\n",
       "      <td>7944959</td>\n",
       "      <td>W92000004</td>\n",
       "      <td>H</td>\n",
       "      <td>2</td>\n",
       "      <td>1</td>\n",
       "      <td>2</td>\n",
       "      <td>2</td>\n",
       "      <td>2</td>\n",
       "      <td>2</td>\n",
       "      <td>1</td>\n",
       "      <td>2</td>\n",
       "      <td>1</td>\n",
       "      <td>1</td>\n",
       "      <td>1</td>\n",
       "      <td>7</td>\n",
       "      <td>4</td>\n",
       "      <td>1</td>\n",
       "      <td>4</td>\n",
       "    </tr>\n",
       "  </tbody>\n",
       "</table>\n",
       "</div>"
      ],
      "text/plain": [
       "        Person ID     Region Residence Type  Family Composition  \\\n",
       "569736    7946020  W92000004              H                   1   \n",
       "569737    7944310  W92000004              H                   3   \n",
       "569738    7945374  W92000004              H                   3   \n",
       "569739    7944768  W92000004              H                   1   \n",
       "569740    7944959  W92000004              H                   2   \n",
       "\n",
       "        Population Base  Sex  Age  Marital Status  Student  Country of Birth  \\\n",
       "569736                1    1    5               1        2                 1   \n",
       "569737                1    1    3               1        2                 1   \n",
       "569738                1    1    1               1        1                 1   \n",
       "569739                1    2    8               5        2                 1   \n",
       "569740                1    2    2               2        2                 1   \n",
       "\n",
       "        Health  Ethnic Group  Religion  Economic Activity  Occupation  \\\n",
       "569736       4             1         9                  1           8   \n",
       "569737       2             1         1                  1           7   \n",
       "569738       1             1         2                 -9          -9   \n",
       "569739       3             1         9                  5           9   \n",
       "569740       2             1         1                  1           7   \n",
       "\n",
       "        Industry  Hours worked per week  Approximated Social Grade  \n",
       "569736         8                      3                          3  \n",
       "569737         4                      3                          4  \n",
       "569738        -9                     -9                         -9  \n",
       "569739         2                     -9                          4  \n",
       "569740         4                      1                          4  "
      ]
     },
     "execution_count": 4,
     "metadata": {},
     "output_type": "execute_result"
    }
   ],
   "source": [
    "data.tail(5)"
   ]
  },
  {
   "cell_type": "markdown",
   "metadata": {
    "slideshow": {
     "slide_type": "subslide"
    }
   },
   "source": [
    "`data.Religion` works but `data.Marital Status` doesn't.\n",
    "\n",
    "You'll need to use `data[\"Marital Status\"]` instead."
   ]
  },
  {
   "cell_type": "markdown",
   "metadata": {
    "slideshow": {
     "slide_type": "subslide"
    }
   },
   "source": [
    "## Task\n",
    "\n",
    "* How many people in the sample live in London?\n",
    "\n",
    "* What proportion of the sample are over 75 years old?\n",
    "\n",
    "* How many of the students are in very good health?"
   ]
  },
  {
   "cell_type": "code",
   "execution_count": 28,
   "metadata": {
    "slideshow": {
     "slide_type": "-"
    }
   },
   "outputs": [
    {
     "name": "stdout",
     "output_type": "stream",
     "text": [
      "individuals living in london: 83582\n",
      "individuals above the age of 75: 43704\n"
     ]
    },
    {
     "ename": "KeyError",
     "evalue": "'Students'",
     "output_type": "error",
     "traceback": [
      "\u001b[0;31m---------------------------------------------------------------------------\u001b[0m",
      "\u001b[0;31mKeyError\u001b[0m                                  Traceback (most recent call last)",
      "\u001b[0;32m/usr/local/lib/python3.5/dist-packages/pandas/core/indexes/base.py\u001b[0m in \u001b[0;36mget_loc\u001b[0;34m(self, key, method, tolerance)\u001b[0m\n\u001b[1;32m   2441\u001b[0m             \u001b[0;32mtry\u001b[0m\u001b[0;34m:\u001b[0m\u001b[0;34m\u001b[0m\u001b[0m\n\u001b[0;32m-> 2442\u001b[0;31m                 \u001b[0;32mreturn\u001b[0m \u001b[0mself\u001b[0m\u001b[0;34m.\u001b[0m\u001b[0m_engine\u001b[0m\u001b[0;34m.\u001b[0m\u001b[0mget_loc\u001b[0m\u001b[0;34m(\u001b[0m\u001b[0mkey\u001b[0m\u001b[0;34m)\u001b[0m\u001b[0;34m\u001b[0m\u001b[0m\n\u001b[0m\u001b[1;32m   2443\u001b[0m             \u001b[0;32mexcept\u001b[0m \u001b[0mKeyError\u001b[0m\u001b[0;34m:\u001b[0m\u001b[0;34m\u001b[0m\u001b[0m\n",
      "\u001b[0;32mpandas/_libs/index.pyx\u001b[0m in \u001b[0;36mpandas._libs.index.IndexEngine.get_loc (pandas/_libs/index.c:5280)\u001b[0;34m()\u001b[0m\n",
      "\u001b[0;32mpandas/_libs/index.pyx\u001b[0m in \u001b[0;36mpandas._libs.index.IndexEngine.get_loc (pandas/_libs/index.c:5126)\u001b[0;34m()\u001b[0m\n",
      "\u001b[0;32mpandas/_libs/hashtable_class_helper.pxi\u001b[0m in \u001b[0;36mpandas._libs.hashtable.PyObjectHashTable.get_item (pandas/_libs/hashtable.c:20523)\u001b[0;34m()\u001b[0m\n",
      "\u001b[0;32mpandas/_libs/hashtable_class_helper.pxi\u001b[0m in \u001b[0;36mpandas._libs.hashtable.PyObjectHashTable.get_item (pandas/_libs/hashtable.c:20477)\u001b[0;34m()\u001b[0m\n",
      "\u001b[0;31mKeyError\u001b[0m: 'Students'",
      "\nDuring handling of the above exception, another exception occurred:\n",
      "\u001b[0;31mKeyError\u001b[0m                                  Traceback (most recent call last)",
      "\u001b[0;32m<ipython-input-28-cae61d7bb957>\u001b[0m in \u001b[0;36m<module>\u001b[0;34m()\u001b[0m\n\u001b[1;32m      1\u001b[0m \u001b[0mprint\u001b[0m\u001b[0;34m(\u001b[0m\u001b[0;34m\"individuals living in london:\"\u001b[0m\u001b[0;34m,\u001b[0m\u001b[0mlen\u001b[0m\u001b[0;34m(\u001b[0m\u001b[0mdata\u001b[0m\u001b[0;34m[\u001b[0m\u001b[0mdata\u001b[0m\u001b[0;34m[\u001b[0m\u001b[0;34m\"Region\"\u001b[0m\u001b[0;34m]\u001b[0m\u001b[0;34m==\u001b[0m\u001b[0;34m\"E12000007\"\u001b[0m\u001b[0;34m]\u001b[0m\u001b[0;34m)\u001b[0m\u001b[0;34m)\u001b[0m\u001b[0;34m\u001b[0m\u001b[0m\n\u001b[1;32m      2\u001b[0m \u001b[0mprint\u001b[0m\u001b[0;34m(\u001b[0m\u001b[0;34m\"individuals above the age of 75:\"\u001b[0m\u001b[0;34m,\u001b[0m\u001b[0mlen\u001b[0m\u001b[0;34m(\u001b[0m\u001b[0mdata\u001b[0m\u001b[0;34m[\u001b[0m\u001b[0mdata\u001b[0m\u001b[0;34m[\u001b[0m\u001b[0;34m\"Age\"\u001b[0m\u001b[0;34m]\u001b[0m\u001b[0;34m==\u001b[0m\u001b[0;36m8\u001b[0m\u001b[0;34m]\u001b[0m\u001b[0;34m)\u001b[0m\u001b[0;34m)\u001b[0m\u001b[0;34m\u001b[0m\u001b[0m\n\u001b[0;32m----> 3\u001b[0;31m \u001b[0mprint\u001b[0m\u001b[0;34m(\u001b[0m\u001b[0;34m\"students who are in good health:\"\u001b[0m\u001b[0;34m,\u001b[0m\u001b[0mdata\u001b[0m\u001b[0;34m.\u001b[0m\u001b[0mloc\u001b[0m\u001b[0;34m[\u001b[0m\u001b[0mdata\u001b[0m\u001b[0;34m[\u001b[0m\u001b[0;34m\"Students\"\u001b[0m\u001b[0;34m]\u001b[0m\u001b[0;34m==\u001b[0m\u001b[0;36m1\u001b[0m\u001b[0;34m,\u001b[0m\u001b[0;34m\"Health\"\u001b[0m\u001b[0;34m]\u001b[0m\u001b[0;34m.\u001b[0m\u001b[0mmap\u001b[0m\u001b[0;34m(\u001b[0m\u001b[0;36m1\u001b[0m\u001b[0;34m)\u001b[0m\u001b[0;34m.\u001b[0m\u001b[0mvalues_count\u001b[0m\u001b[0;34m(\u001b[0m\u001b[0;34m)\u001b[0m\u001b[0;34m)\u001b[0m\u001b[0;34m\u001b[0m\u001b[0m\n\u001b[0m",
      "\u001b[0;32m/usr/local/lib/python3.5/dist-packages/pandas/core/frame.py\u001b[0m in \u001b[0;36m__getitem__\u001b[0;34m(self, key)\u001b[0m\n\u001b[1;32m   1962\u001b[0m             \u001b[0;32mreturn\u001b[0m \u001b[0mself\u001b[0m\u001b[0;34m.\u001b[0m\u001b[0m_getitem_multilevel\u001b[0m\u001b[0;34m(\u001b[0m\u001b[0mkey\u001b[0m\u001b[0;34m)\u001b[0m\u001b[0;34m\u001b[0m\u001b[0m\n\u001b[1;32m   1963\u001b[0m         \u001b[0;32melse\u001b[0m\u001b[0;34m:\u001b[0m\u001b[0;34m\u001b[0m\u001b[0m\n\u001b[0;32m-> 1964\u001b[0;31m             \u001b[0;32mreturn\u001b[0m \u001b[0mself\u001b[0m\u001b[0;34m.\u001b[0m\u001b[0m_getitem_column\u001b[0m\u001b[0;34m(\u001b[0m\u001b[0mkey\u001b[0m\u001b[0;34m)\u001b[0m\u001b[0;34m\u001b[0m\u001b[0m\n\u001b[0m\u001b[1;32m   1965\u001b[0m \u001b[0;34m\u001b[0m\u001b[0m\n\u001b[1;32m   1966\u001b[0m     \u001b[0;32mdef\u001b[0m \u001b[0m_getitem_column\u001b[0m\u001b[0;34m(\u001b[0m\u001b[0mself\u001b[0m\u001b[0;34m,\u001b[0m \u001b[0mkey\u001b[0m\u001b[0;34m)\u001b[0m\u001b[0;34m:\u001b[0m\u001b[0;34m\u001b[0m\u001b[0m\n",
      "\u001b[0;32m/usr/local/lib/python3.5/dist-packages/pandas/core/frame.py\u001b[0m in \u001b[0;36m_getitem_column\u001b[0;34m(self, key)\u001b[0m\n\u001b[1;32m   1969\u001b[0m         \u001b[0;31m# get column\u001b[0m\u001b[0;34m\u001b[0m\u001b[0;34m\u001b[0m\u001b[0m\n\u001b[1;32m   1970\u001b[0m         \u001b[0;32mif\u001b[0m \u001b[0mself\u001b[0m\u001b[0;34m.\u001b[0m\u001b[0mcolumns\u001b[0m\u001b[0;34m.\u001b[0m\u001b[0mis_unique\u001b[0m\u001b[0;34m:\u001b[0m\u001b[0;34m\u001b[0m\u001b[0m\n\u001b[0;32m-> 1971\u001b[0;31m             \u001b[0;32mreturn\u001b[0m \u001b[0mself\u001b[0m\u001b[0;34m.\u001b[0m\u001b[0m_get_item_cache\u001b[0m\u001b[0;34m(\u001b[0m\u001b[0mkey\u001b[0m\u001b[0;34m)\u001b[0m\u001b[0;34m\u001b[0m\u001b[0m\n\u001b[0m\u001b[1;32m   1972\u001b[0m \u001b[0;34m\u001b[0m\u001b[0m\n\u001b[1;32m   1973\u001b[0m         \u001b[0;31m# duplicate columns & possible reduce dimensionality\u001b[0m\u001b[0;34m\u001b[0m\u001b[0;34m\u001b[0m\u001b[0m\n",
      "\u001b[0;32m/usr/local/lib/python3.5/dist-packages/pandas/core/generic.py\u001b[0m in \u001b[0;36m_get_item_cache\u001b[0;34m(self, item)\u001b[0m\n\u001b[1;32m   1643\u001b[0m         \u001b[0mres\u001b[0m \u001b[0;34m=\u001b[0m \u001b[0mcache\u001b[0m\u001b[0;34m.\u001b[0m\u001b[0mget\u001b[0m\u001b[0;34m(\u001b[0m\u001b[0mitem\u001b[0m\u001b[0;34m)\u001b[0m\u001b[0;34m\u001b[0m\u001b[0m\n\u001b[1;32m   1644\u001b[0m         \u001b[0;32mif\u001b[0m \u001b[0mres\u001b[0m \u001b[0;32mis\u001b[0m \u001b[0;32mNone\u001b[0m\u001b[0;34m:\u001b[0m\u001b[0;34m\u001b[0m\u001b[0m\n\u001b[0;32m-> 1645\u001b[0;31m             \u001b[0mvalues\u001b[0m \u001b[0;34m=\u001b[0m \u001b[0mself\u001b[0m\u001b[0;34m.\u001b[0m\u001b[0m_data\u001b[0m\u001b[0;34m.\u001b[0m\u001b[0mget\u001b[0m\u001b[0;34m(\u001b[0m\u001b[0mitem\u001b[0m\u001b[0;34m)\u001b[0m\u001b[0;34m\u001b[0m\u001b[0m\n\u001b[0m\u001b[1;32m   1646\u001b[0m             \u001b[0mres\u001b[0m \u001b[0;34m=\u001b[0m \u001b[0mself\u001b[0m\u001b[0;34m.\u001b[0m\u001b[0m_box_item_values\u001b[0m\u001b[0;34m(\u001b[0m\u001b[0mitem\u001b[0m\u001b[0;34m,\u001b[0m \u001b[0mvalues\u001b[0m\u001b[0;34m)\u001b[0m\u001b[0;34m\u001b[0m\u001b[0m\n\u001b[1;32m   1647\u001b[0m             \u001b[0mcache\u001b[0m\u001b[0;34m[\u001b[0m\u001b[0mitem\u001b[0m\u001b[0;34m]\u001b[0m \u001b[0;34m=\u001b[0m \u001b[0mres\u001b[0m\u001b[0;34m\u001b[0m\u001b[0m\n",
      "\u001b[0;32m/usr/local/lib/python3.5/dist-packages/pandas/core/internals.py\u001b[0m in \u001b[0;36mget\u001b[0;34m(self, item, fastpath)\u001b[0m\n\u001b[1;32m   3588\u001b[0m \u001b[0;34m\u001b[0m\u001b[0m\n\u001b[1;32m   3589\u001b[0m             \u001b[0;32mif\u001b[0m \u001b[0;32mnot\u001b[0m \u001b[0misnull\u001b[0m\u001b[0;34m(\u001b[0m\u001b[0mitem\u001b[0m\u001b[0;34m)\u001b[0m\u001b[0;34m:\u001b[0m\u001b[0;34m\u001b[0m\u001b[0m\n\u001b[0;32m-> 3590\u001b[0;31m                 \u001b[0mloc\u001b[0m \u001b[0;34m=\u001b[0m \u001b[0mself\u001b[0m\u001b[0;34m.\u001b[0m\u001b[0mitems\u001b[0m\u001b[0;34m.\u001b[0m\u001b[0mget_loc\u001b[0m\u001b[0;34m(\u001b[0m\u001b[0mitem\u001b[0m\u001b[0;34m)\u001b[0m\u001b[0;34m\u001b[0m\u001b[0m\n\u001b[0m\u001b[1;32m   3591\u001b[0m             \u001b[0;32melse\u001b[0m\u001b[0;34m:\u001b[0m\u001b[0;34m\u001b[0m\u001b[0m\n\u001b[1;32m   3592\u001b[0m                 \u001b[0mindexer\u001b[0m \u001b[0;34m=\u001b[0m \u001b[0mnp\u001b[0m\u001b[0;34m.\u001b[0m\u001b[0marange\u001b[0m\u001b[0;34m(\u001b[0m\u001b[0mlen\u001b[0m\u001b[0;34m(\u001b[0m\u001b[0mself\u001b[0m\u001b[0;34m.\u001b[0m\u001b[0mitems\u001b[0m\u001b[0;34m)\u001b[0m\u001b[0;34m)\u001b[0m\u001b[0;34m[\u001b[0m\u001b[0misnull\u001b[0m\u001b[0;34m(\u001b[0m\u001b[0mself\u001b[0m\u001b[0;34m.\u001b[0m\u001b[0mitems\u001b[0m\u001b[0;34m)\u001b[0m\u001b[0;34m]\u001b[0m\u001b[0;34m\u001b[0m\u001b[0m\n",
      "\u001b[0;32m/usr/local/lib/python3.5/dist-packages/pandas/core/indexes/base.py\u001b[0m in \u001b[0;36mget_loc\u001b[0;34m(self, key, method, tolerance)\u001b[0m\n\u001b[1;32m   2442\u001b[0m                 \u001b[0;32mreturn\u001b[0m \u001b[0mself\u001b[0m\u001b[0;34m.\u001b[0m\u001b[0m_engine\u001b[0m\u001b[0;34m.\u001b[0m\u001b[0mget_loc\u001b[0m\u001b[0;34m(\u001b[0m\u001b[0mkey\u001b[0m\u001b[0;34m)\u001b[0m\u001b[0;34m\u001b[0m\u001b[0m\n\u001b[1;32m   2443\u001b[0m             \u001b[0;32mexcept\u001b[0m \u001b[0mKeyError\u001b[0m\u001b[0;34m:\u001b[0m\u001b[0;34m\u001b[0m\u001b[0m\n\u001b[0;32m-> 2444\u001b[0;31m                 \u001b[0;32mreturn\u001b[0m \u001b[0mself\u001b[0m\u001b[0;34m.\u001b[0m\u001b[0m_engine\u001b[0m\u001b[0;34m.\u001b[0m\u001b[0mget_loc\u001b[0m\u001b[0;34m(\u001b[0m\u001b[0mself\u001b[0m\u001b[0;34m.\u001b[0m\u001b[0m_maybe_cast_indexer\u001b[0m\u001b[0;34m(\u001b[0m\u001b[0mkey\u001b[0m\u001b[0;34m)\u001b[0m\u001b[0;34m)\u001b[0m\u001b[0;34m\u001b[0m\u001b[0m\n\u001b[0m\u001b[1;32m   2445\u001b[0m \u001b[0;34m\u001b[0m\u001b[0m\n\u001b[1;32m   2446\u001b[0m         \u001b[0mindexer\u001b[0m \u001b[0;34m=\u001b[0m \u001b[0mself\u001b[0m\u001b[0;34m.\u001b[0m\u001b[0mget_indexer\u001b[0m\u001b[0;34m(\u001b[0m\u001b[0;34m[\u001b[0m\u001b[0mkey\u001b[0m\u001b[0;34m]\u001b[0m\u001b[0;34m,\u001b[0m \u001b[0mmethod\u001b[0m\u001b[0;34m=\u001b[0m\u001b[0mmethod\u001b[0m\u001b[0;34m,\u001b[0m \u001b[0mtolerance\u001b[0m\u001b[0;34m=\u001b[0m\u001b[0mtolerance\u001b[0m\u001b[0;34m)\u001b[0m\u001b[0;34m\u001b[0m\u001b[0m\n",
      "\u001b[0;32mpandas/_libs/index.pyx\u001b[0m in \u001b[0;36mpandas._libs.index.IndexEngine.get_loc (pandas/_libs/index.c:5280)\u001b[0;34m()\u001b[0m\n",
      "\u001b[0;32mpandas/_libs/index.pyx\u001b[0m in \u001b[0;36mpandas._libs.index.IndexEngine.get_loc (pandas/_libs/index.c:5126)\u001b[0;34m()\u001b[0m\n",
      "\u001b[0;32mpandas/_libs/hashtable_class_helper.pxi\u001b[0m in \u001b[0;36mpandas._libs.hashtable.PyObjectHashTable.get_item (pandas/_libs/hashtable.c:20523)\u001b[0;34m()\u001b[0m\n",
      "\u001b[0;32mpandas/_libs/hashtable_class_helper.pxi\u001b[0m in \u001b[0;36mpandas._libs.hashtable.PyObjectHashTable.get_item (pandas/_libs/hashtable.c:20477)\u001b[0;34m()\u001b[0m\n",
      "\u001b[0;31mKeyError\u001b[0m: 'Students'"
     ]
    }
   ],
   "source": [
    "print(\"individuals living in london:\",len(data[data[\"Region\"]==\"E12000007\"]))\n",
    "print(\"individuals above the age of 75:\",len(data[data[\"Age\"]==8]))\n",
    "print(\"students who are in good health:\",data.loc[data[\"Students\"]==1,\"Health\"].map(1).values_count())"
   ]
  },
  {
   "cell_type": "markdown",
   "metadata": {
    "slideshow": {
     "slide_type": "subslide"
    }
   },
   "source": [
    "## Tool\n",
    "\n",
    "We can use `loc` and `value_counts()` to look more closely at student health."
   ]
  },
  {
   "cell_type": "code",
   "execution_count": null,
   "metadata": {
    "scrolled": true,
    "slideshow": {
     "slide_type": "fragment"
    }
   },
   "outputs": [],
   "source": []
  },
  {
   "cell_type": "markdown",
   "metadata": {
    "slideshow": {
     "slide_type": "subslide"
    }
   },
   "source": [
    "## Tool\n",
    "\n",
    "We can use `map` with a dictionary to make those variables easier to read."
   ]
  },
  {
   "cell_type": "code",
   "execution_count": 32,
   "metadata": {},
   "outputs": [
    {
     "data": {
      "text/plain": [
       "1. Very good health    90038\n",
       "2. Good health         25305\n",
       "No code required        6804\n",
       "3. Fair health          3433\n",
       "4. Bad health            708\n",
       "5. Very bad health       249\n",
       "Name: Health, dtype: int64"
      ]
     },
     "execution_count": 32,
     "metadata": {},
     "output_type": "execute_result"
    }
   ],
   "source": [
    "health_codes = {1: \"1. Very good health\",\n",
    "                2: \"2. Good health\",\n",
    "                3: \"3. Fair health\",\n",
    "                4: \"4. Bad health\",\n",
    "                5: \"5. Very bad health\",\n",
    "                -9: \"No code required\"}\n",
    "data.loc[data[\"Student\"]==1,\"Health\"].map(health_codes).value_counts()"
   ]
  },
  {
   "cell_type": "markdown",
   "metadata": {
    "slideshow": {
     "slide_type": "subslide"
    }
   },
   "source": [
    "## Task\n",
    "\n",
    "> Londoners work more but are less healthy than the rest of the UK\n",
    "\n",
    "Investigate."
   ]
  },
  {
   "cell_type": "code",
   "execution_count": 51,
   "metadata": {},
   "outputs": [],
   "source": [
    "hours = {1: \"1. Part-time: 15 or less hours worked\",\n",
    "                2: \"2. Part-time: 16 to 30 hours worked\",\n",
    "                3: \"3. Full-time: 31 to 48 hours worked\",\n",
    "                4: \"4. Full-time: 49 or more hours worked\"}\n",
    "def Replace(X,Y,list):\n",
    "    list = [Y if item == X else item for item in range(len(list))]\n",
    "    return list"
   ]
  },
  {
   "cell_type": "code",
   "execution_count": 39,
   "metadata": {},
   "outputs": [],
   "source": [
    "WorkHoursLondon =[data[\"Region\"] == \"E12000007\", \"Hours worked per week\"] #Count of values of hours worked per week in London\n",
    "HealthLondon = [data[\"Region\"] == \"E12000007\", \"Health\"] #Count of values of health in London"
   ]
  },
  {
   "cell_type": "code",
   "execution_count": 66,
   "metadata": {},
   "outputs": [],
   "source": [
    "WorkHoursNotLondon = data.loc[(data[\"Region\"] != \"E12000007\") & (data[\"Hours worked per week\"] != -9),\"Hours worked per week\"] #Count of values of hours worked per week outside of London\n",
    "HealthNotLondon = data.loc[(data[\"Region\"] != \"E12000007\") & (data[\"Health\"] != -9), \"Health\"] #Count of values of health outside of London"
   ]
  },
  {
   "cell_type": "code",
   "execution_count": 67,
   "metadata": {},
   "outputs": [
    {
     "name": "stdout",
     "output_type": "stream",
     "text": [
      "NLWH: 1         4\n",
      "2         3\n",
      "3         3\n",
      "4         3\n",
      "5         3\n",
      "6         2\n",
      "10        3\n",
      "12        3\n",
      "14        2\n",
      "16        4\n",
      "18        3\n",
      "21        1\n",
      "22        3\n",
      "25        3\n",
      "26        3\n",
      "28        1\n",
      "29        3\n",
      "30        2\n",
      "31        2\n",
      "37        3\n",
      "38        1\n",
      "43        3\n",
      "44        3\n",
      "46        2\n",
      "47        3\n",
      "49        3\n",
      "50        3\n",
      "52        2\n",
      "55        4\n",
      "56        3\n",
      "         ..\n",
      "569640    4\n",
      "569662    1\n",
      "569664    1\n",
      "569665    1\n",
      "569682    3\n",
      "569683    3\n",
      "569685    3\n",
      "569689    3\n",
      "569690    3\n",
      "569691    4\n",
      "569693    2\n",
      "569694    4\n",
      "569697    3\n",
      "569698    2\n",
      "569699    3\n",
      "569701    2\n",
      "569703    3\n",
      "569706    3\n",
      "569713    3\n",
      "569715    3\n",
      "569717    2\n",
      "569721    3\n",
      "569725    3\n",
      "569728    3\n",
      "569733    2\n",
      "569734    2\n",
      "569735    3\n",
      "569736    3\n",
      "569737    3\n",
      "569740    1\n",
      "Name: Hours worked per week, Length: 226815, dtype: int64\n",
      "NLH: 0         2\n",
      "1         1\n",
      "2         1\n",
      "3         2\n",
      "4         1\n",
      "5         2\n",
      "6         2\n",
      "7         2\n",
      "8         1\n",
      "9         3\n",
      "10        3\n",
      "11        1\n",
      "12        1\n",
      "13        2\n",
      "14        2\n",
      "15        2\n",
      "16        1\n",
      "17        1\n",
      "18        3\n",
      "19        1\n",
      "20        3\n",
      "21        3\n",
      "22        1\n",
      "23        3\n",
      "24        1\n",
      "25        2\n",
      "26        2\n",
      "27        1\n",
      "28        1\n",
      "29        1\n",
      "         ..\n",
      "569710    1\n",
      "569711    1\n",
      "569712    1\n",
      "569713    1\n",
      "569714    1\n",
      "569715    1\n",
      "569716    3\n",
      "569717    1\n",
      "569718    1\n",
      "569719    1\n",
      "569720    1\n",
      "569721    1\n",
      "569722    1\n",
      "569723    1\n",
      "569724    2\n",
      "569725    1\n",
      "569726    3\n",
      "569728    2\n",
      "569729    2\n",
      "569730    2\n",
      "569731    3\n",
      "569732    1\n",
      "569733    1\n",
      "569734    3\n",
      "569735    1\n",
      "569736    4\n",
      "569737    2\n",
      "569738    1\n",
      "569739    3\n",
      "569740    2\n",
      "Name: Health, Length: 480352, dtype: int64\n"
     ]
    }
   ],
   "source": [
    "print(\"NLWH:\",WorkHoursNotLondon)\n",
    "print(\"NLH:\",HealthNotLondon)"
   ]
  },
  {
   "cell_type": "markdown",
   "metadata": {
    "slideshow": {
     "slide_type": "subslide"
    }
   },
   "source": [
    "## Tool\n",
    "\n",
    "> Is there a relationship between social class and health?\n",
    "\n",
    "It doesn't make sense to draw a scatter graph between two categorical variables.\n",
    "\n",
    "We'll use `pandas` `crosstab` instead."
   ]
  },
  {
   "cell_type": "code",
   "execution_count": 44,
   "metadata": {
    "slideshow": {
     "slide_type": "subslide"
    }
   },
   "outputs": [
    {
     "data": {
      "text/html": [
       "<div>\n",
       "<style>\n",
       "    .dataframe thead tr:only-child th {\n",
       "        text-align: right;\n",
       "    }\n",
       "\n",
       "    .dataframe thead th {\n",
       "        text-align: left;\n",
       "    }\n",
       "\n",
       "    .dataframe tbody tr th {\n",
       "        vertical-align: top;\n",
       "    }\n",
       "</style>\n",
       "<table border=\"1\" class=\"dataframe\">\n",
       "  <thead>\n",
       "    <tr style=\"text-align: right;\">\n",
       "      <th>Health</th>\n",
       "      <th>1. Very good health</th>\n",
       "      <th>2. Good health</th>\n",
       "      <th>3. Fair health</th>\n",
       "      <th>4. Bad health</th>\n",
       "      <th>5. Very bad health</th>\n",
       "      <th>No code required</th>\n",
       "    </tr>\n",
       "    <tr>\n",
       "      <th>Approximated Social Grade</th>\n",
       "      <th></th>\n",
       "      <th></th>\n",
       "      <th></th>\n",
       "      <th></th>\n",
       "      <th></th>\n",
       "      <th></th>\n",
       "    </tr>\n",
       "  </thead>\n",
       "  <tbody>\n",
       "    <tr>\n",
       "      <th>AB</th>\n",
       "      <td>40943</td>\n",
       "      <td>30625</td>\n",
       "      <td>8222</td>\n",
       "      <td>2002</td>\n",
       "      <td>528</td>\n",
       "      <td>0</td>\n",
       "    </tr>\n",
       "    <tr>\n",
       "      <th>C1</th>\n",
       "      <td>74072</td>\n",
       "      <td>59075</td>\n",
       "      <td>19461</td>\n",
       "      <td>5597</td>\n",
       "      <td>1437</td>\n",
       "      <td>0</td>\n",
       "    </tr>\n",
       "    <tr>\n",
       "      <th>C2</th>\n",
       "      <td>28581</td>\n",
       "      <td>32335</td>\n",
       "      <td>13382</td>\n",
       "      <td>4374</td>\n",
       "      <td>1264</td>\n",
       "      <td>0</td>\n",
       "    </tr>\n",
       "    <tr>\n",
       "      <th>DE</th>\n",
       "      <td>33513</td>\n",
       "      <td>47251</td>\n",
       "      <td>28682</td>\n",
       "      <td>10998</td>\n",
       "      <td>3296</td>\n",
       "      <td>0</td>\n",
       "    </tr>\n",
       "    <tr>\n",
       "      <th>None required</th>\n",
       "      <td>87862</td>\n",
       "      <td>22458</td>\n",
       "      <td>4733</td>\n",
       "      <td>1587</td>\n",
       "      <td>659</td>\n",
       "      <td>6804</td>\n",
       "    </tr>\n",
       "  </tbody>\n",
       "</table>\n",
       "</div>"
      ],
      "text/plain": [
       "Health                     1. Very good health  2. Good health  \\\n",
       "Approximated Social Grade                                        \n",
       "AB                                       40943           30625   \n",
       "C1                                       74072           59075   \n",
       "C2                                       28581           32335   \n",
       "DE                                       33513           47251   \n",
       "None required                            87862           22458   \n",
       "\n",
       "Health                     3. Fair health  4. Bad health  5. Very bad health  \\\n",
       "Approximated Social Grade                                                      \n",
       "AB                                   8222           2002                 528   \n",
       "C1                                  19461           5597                1437   \n",
       "C2                                  13382           4374                1264   \n",
       "DE                                  28682          10998                3296   \n",
       "None required                        4733           1587                 659   \n",
       "\n",
       "Health                     No code required  \n",
       "Approximated Social Grade                    \n",
       "AB                                        0  \n",
       "C1                                        0  \n",
       "C2                                        0  \n",
       "DE                                        0  \n",
       "None required                          6804  "
      ]
     },
     "execution_count": 44,
     "metadata": {},
     "output_type": "execute_result"
    }
   ],
   "source": [
    "social_codes = {1: 'AB', 2: 'C1', 3: 'C2', 4: 'DE', -9: 'None required'}\n",
    "pd.crosstab(data[\"Approximated Social Grade\"].map(social_codes),data[\"Health\"].map(health_codes))"
   ]
  },
  {
   "cell_type": "code",
   "execution_count": 45,
   "metadata": {
    "scrolled": false,
    "slideshow": {
     "slide_type": "subslide"
    }
   },
   "outputs": [
    {
     "data": {
      "text/html": [
       "<div>\n",
       "<style>\n",
       "    .dataframe thead tr:only-child th {\n",
       "        text-align: right;\n",
       "    }\n",
       "\n",
       "    .dataframe thead th {\n",
       "        text-align: left;\n",
       "    }\n",
       "\n",
       "    .dataframe tbody tr th {\n",
       "        vertical-align: top;\n",
       "    }\n",
       "</style>\n",
       "<table border=\"1\" class=\"dataframe\">\n",
       "  <thead>\n",
       "    <tr style=\"text-align: right;\">\n",
       "      <th>Health</th>\n",
       "      <th>1. Very good health</th>\n",
       "      <th>2. Good health</th>\n",
       "      <th>3. Fair health</th>\n",
       "      <th>4. Bad health</th>\n",
       "      <th>5. Very bad health</th>\n",
       "      <th>No code required</th>\n",
       "    </tr>\n",
       "    <tr>\n",
       "      <th>Approximated Social Grade</th>\n",
       "      <th></th>\n",
       "      <th></th>\n",
       "      <th></th>\n",
       "      <th></th>\n",
       "      <th></th>\n",
       "      <th></th>\n",
       "    </tr>\n",
       "  </thead>\n",
       "  <tbody>\n",
       "    <tr>\n",
       "      <th>AB</th>\n",
       "      <td>0.497364</td>\n",
       "      <td>0.372024</td>\n",
       "      <td>0.099879</td>\n",
       "      <td>0.024320</td>\n",
       "      <td>0.006414</td>\n",
       "      <td>0.000000</td>\n",
       "    </tr>\n",
       "    <tr>\n",
       "      <th>C1</th>\n",
       "      <td>0.463988</td>\n",
       "      <td>0.370047</td>\n",
       "      <td>0.121904</td>\n",
       "      <td>0.035060</td>\n",
       "      <td>0.009001</td>\n",
       "      <td>0.000000</td>\n",
       "    </tr>\n",
       "    <tr>\n",
       "      <th>C2</th>\n",
       "      <td>0.357549</td>\n",
       "      <td>0.404511</td>\n",
       "      <td>0.167409</td>\n",
       "      <td>0.054719</td>\n",
       "      <td>0.015813</td>\n",
       "      <td>0.000000</td>\n",
       "    </tr>\n",
       "    <tr>\n",
       "      <th>DE</th>\n",
       "      <td>0.270834</td>\n",
       "      <td>0.381857</td>\n",
       "      <td>0.231792</td>\n",
       "      <td>0.088880</td>\n",
       "      <td>0.026636</td>\n",
       "      <td>0.000000</td>\n",
       "    </tr>\n",
       "    <tr>\n",
       "      <th>None required</th>\n",
       "      <td>0.707976</td>\n",
       "      <td>0.180963</td>\n",
       "      <td>0.038138</td>\n",
       "      <td>0.012788</td>\n",
       "      <td>0.005310</td>\n",
       "      <td>0.054825</td>\n",
       "    </tr>\n",
       "  </tbody>\n",
       "</table>\n",
       "</div>"
      ],
      "text/plain": [
       "Health                     1. Very good health  2. Good health  \\\n",
       "Approximated Social Grade                                        \n",
       "AB                                    0.497364        0.372024   \n",
       "C1                                    0.463988        0.370047   \n",
       "C2                                    0.357549        0.404511   \n",
       "DE                                    0.270834        0.381857   \n",
       "None required                         0.707976        0.180963   \n",
       "\n",
       "Health                     3. Fair health  4. Bad health  5. Very bad health  \\\n",
       "Approximated Social Grade                                                      \n",
       "AB                               0.099879       0.024320            0.006414   \n",
       "C1                               0.121904       0.035060            0.009001   \n",
       "C2                               0.167409       0.054719            0.015813   \n",
       "DE                               0.231792       0.088880            0.026636   \n",
       "None required                    0.038138       0.012788            0.005310   \n",
       "\n",
       "Health                     No code required  \n",
       "Approximated Social Grade                    \n",
       "AB                                 0.000000  \n",
       "C1                                 0.000000  \n",
       "C2                                 0.000000  \n",
       "DE                                 0.000000  \n",
       "None required                      0.054825  "
      ]
     },
     "execution_count": 45,
     "metadata": {},
     "output_type": "execute_result"
    }
   ],
   "source": [
    "pd.crosstab(data[\"Approximated Social Grade\"].map(social_codes),data[\"Health\"].map(health_codes), normalize=\"index\")"
   ]
  },
  {
   "cell_type": "code",
   "execution_count": 46,
   "metadata": {
    "slideshow": {
     "slide_type": "subslide"
    }
   },
   "outputs": [
    {
     "data": {
      "text/plain": [
       "<matplotlib.axes._subplots.AxesSubplot at 0x7f7919212b70>"
      ]
     },
     "execution_count": 46,
     "metadata": {},
     "output_type": "execute_result"
    },
    {
     "data": {
      "image/png": "[encoded data removed]",
      "text/plain": [
       "<matplotlib.figure.Figure at 0x7f7920e58208>"
      ]
     },
     "metadata": {},
     "output_type": "display_data"
    }
   ],
   "source": [
    "import seaborn\n",
    "seaborn.heatmap(pd.crosstab(data[\"Approximated Social Grade\"].map(social_codes),data[\"Health\"].map(health_codes), normalize=\"index\"))"
   ]
  },
  {
   "cell_type": "markdown",
   "metadata": {
    "slideshow": {
     "slide_type": "subslide"
    }
   },
   "source": [
    "## Task\n",
    "\n",
    "In what part of the UK is unemployment worst?"
   ]
  },
  {
   "cell_type": "code",
   "execution_count": null,
   "metadata": {},
   "outputs": [],
   "source": []
  }
 ],
 "metadata": {
  "celltoolbar": "Slideshow",
  "kernelspec": {
   "display_name": "Python 3",
   "language": "python",
   "name": "python3"
  },
  "language_info": {
   "codemirror_mode": {
    "name": "ipython",
    "version": 3
   },
   "file_extension": ".py",
   "mimetype": "text/x-python",
   "name": "python",
   "nbconvert_exporter": "python",
   "pygments_lexer": "ipython3",
   "version": "3.5.2"
  }
 },
 "nbformat": 4,
 "nbformat_minor": 2
}
