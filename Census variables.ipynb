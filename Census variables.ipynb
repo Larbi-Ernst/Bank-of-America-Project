{
 "cells": [
  {
   "cell_type": "markdown",
   "metadata": {},
   "source": [
    "## Coding of the categorical census variables"
   ]
  },
  {
   "cell_type": "markdown",
   "metadata": {},
   "source": [
    "### Region\n",
    "\n",
    "E12000001   North East\n",
    "\n",
    "E12000002   North West\n",
    "\n",
    "E12000003   Yorkshire and the Humber \n",
    "\n",
    "E12000004   East Midlands \n",
    "\n",
    "E12000005   West Midlands \n",
    "\n",
    "E12000006   East of England \n",
    "\n",
    "E12000007   London \n",
    "\n",
    "E12000008   South East \n",
    "\n",
    "E12000009   South West\n",
    "\n",
    "W92000004  Wales"
   ]
  },
  {
   "cell_type": "markdown",
   "metadata": {},
   "source": [
    "### Residence type\n",
    "\n",
    "C  Resident in a communal establishment\n",
    "\n",
    "H  Not resident in a communal establishment"
   ]
  },
  {
   "cell_type": "markdown",
   "metadata": {},
   "source": [
    "### Family composition\n",
    "\n",
    "1. Not in a family \n",
    "2. Married/same-sex civil partnership couple family\n",
    "3. Cohabiting couple family \n",
    "4. Lone parent family (male head) \n",
    "5. Lone parent family (female head) \n",
    "6. Other related family\n",
    "\n",
    "-9. No code required (Resident of a communal establishment, students or schoolchildren living away during term-time, or a short-term resident)"
   ]
  },
  {
   "cell_type": "markdown",
   "metadata": {},
   "source": [
    "### Population base\n",
    "\n",
    "1. Usual resident \n",
    "2. Student living away from home during term-time \n",
    "3. Short-term resident"
   ]
  },
  {
   "cell_type": "markdown",
   "metadata": {},
   "source": [
    "### Sex\n",
    "\n",
    "1. Male \n",
    "2. Female"
   ]
  },
  {
   "cell_type": "markdown",
   "metadata": {},
   "source": [
    "### Age\n",
    "\n",
    "1. 0 to 15 \n",
    "2. 16 to 24 \n",
    "3. 25 to 34 \n",
    "4. 35 to 44 \n",
    "5. 45 to 54 \n",
    "6. 55 to 64 \n",
    "7. 65 to 74 \n",
    "8. 75 and over"
   ]
  },
  {
   "cell_type": "markdown",
   "metadata": {},
   "source": [
    "### Marital status\n",
    "\n",
    "1. Single (never married or never registered a same-sex civil partnership) \n",
    "2. Married or in a registered same-sex civil partnership \n",
    "3. Separated but still legally married or separated but still legally in a same-sex civil partnership \n",
    "4. Divorced or formerly in a same-sex civil partnership which is now legally dissolved \n",
    "5. Widowed or surviving partner from a same-sex civil partnership"
   ]
  },
  {
   "cell_type": "markdown",
   "metadata": {},
   "source": [
    "### Student \n",
    "\n",
    "1. Yes (Schoolchild or full-time student)\n",
    "2. No"
   ]
  },
  {
   "cell_type": "markdown",
   "metadata": {},
   "source": [
    "### Country of birth\n",
    "1. UK \n",
    "2. Non UK\n",
    "\n",
    "-9. No Code required (Students or schoolchildren living away during term-time)"
   ]
  },
  {
   "cell_type": "markdown",
   "metadata": {},
   "source": [
    "### Health \n",
    "1. Very good health \n",
    "\n",
    "2. Good health \n",
    "\n",
    "3. Fair health \n",
    "\n",
    "4. Bad health \n",
    "\n",
    "5. Very bad health\n",
    "\n",
    "-9. No code required (Students or schoolchildren living away during term-time)"
   ]
  },
  {
   "cell_type": "markdown",
   "metadata": {},
   "source": [
    "### Ethnic group\n",
    "\n",
    "1. White \n",
    "2. Mixed \n",
    "3. Asian and Asian British \n",
    "4. Black or Black British \n",
    "5. Chinese or Other ethnic group\n",
    "\n",
    "-9. No code required (Not resident in England or Wales, students or schoolchildren living away during term-time)"
   ]
  },
  {
   "cell_type": "markdown",
   "metadata": {},
   "source": [
    "### Religion\n",
    "\n",
    "1. No religion \n",
    "2. Christian \n",
    "3. Buddhist \n",
    "4. Hindu \n",
    "5. Jewish \n",
    "6. Muslim \n",
    "7. Sikh \n",
    "8. Other religion \n",
    "9. Not stated\n",
    "\n",
    "-9. No code required (Not resident in England or Wales, students or schoolchildren living away during term-time)"
   ]
  },
  {
   "cell_type": "markdown",
   "metadata": {},
   "source": [
    "### Economic activity\n",
    "\n",
    "1. Economically active: Employee \n",
    "2. Economically active: Self-employed \n",
    "3. Economically active: Unemployed \n",
    "4. Economically active: Full-time student \n",
    "5. Economically inactive: Retired \n",
    "6. Economically inactive: Student \n",
    "7. Economically inactive: Looking after home or family \n",
    "8. Economically inactive: Long-term sick or disabled \n",
    "9. Economically inactive: Other\n",
    "\n",
    "-9. No code required (Aged under 16 or students or schoolchildren living away during term-time)"
   ]
  },
  {
   "cell_type": "markdown",
   "metadata": {},
   "source": [
    "### Occupation\n",
    "\n",
    "1. Managers, Directors and Senior Officials \n",
    "2. Professional Occupations \n",
    "3. Associate Professional and Technical Occupations \n",
    "4. Administrative and Secretarial Occupations \n",
    "5. Skilled Trades Occupations \n",
    "6. Caring, Leisure and Other Service Occupations \n",
    "7. Sales and Customer Service Occupations \n",
    "8. Process, Plant and Machine Operatives \n",
    "9. Elementary Occupations\n",
    "\n",
    "-9. No code required (People aged under 16, people who have never worked and students or schoolchildren living away during term-time)"
   ]
  },
  {
   "cell_type": "markdown",
   "metadata": {},
   "source": [
    "### Industry\n",
    "\n",
    "1. Agriculture, forestry and fishing \n",
    "2. Mining and quarrying; Manufacturing; Electricity, gas, steam and air conditioning system; Water supply \n",
    "3. Construction \n",
    "4. Wholesale and retail trade; Repair of motor vehicles and motorcycles\n",
    "5. Accommodation and food service activities \n",
    "6. Transport and storage; Information and communication \n",
    "7. Financial and insurance activities; Intermediation \n",
    "8. Real estate activities; Professional, scientific and technical activities; Administrative and support service activities \n",
    "9. Public administration and defence; compulsory social security \n",
    "10. Education \n",
    "11. Human health and social work activities \n",
    "12. Other community, social and personal service activities; Private households employing domestic staff; Extra-territorial organisations and bodies\n",
    "\n",
    "-9. No code required (People aged under 16, people who have never worked, and students or schoolchildren living away during term-time) "
   ]
  },
  {
   "cell_type": "markdown",
   "metadata": {},
   "source": [
    "### Hours worked per week\n",
    "\n",
    "1. Part-time: 15 or less hours worked \n",
    "2. Part-time: 16 to 30 hours worked \n",
    "3. Full-time: 31 to 48 hours worked \n",
    "4. Full-time: 49 or more hours worked\n",
    "\n",
    "-9. No code required (People aged under 16, people not working, and students or schoolchildren living away during term-time)"
   ]
  },
  {
   "cell_type": "markdown",
   "metadata": {},
   "source": [
    "### Approximated social grade\n",
    "\n",
    "1. AB \n",
    "2. C1 \n",
    "3. C2 \n",
    "4. DE\n",
    "\n",
    "-9. No code required (People aged under 16, people resident in communal establishments, and students or schoolchildren living away during term-time)"
   ]
  }
 ],
 "metadata": {
  "kernelspec": {
   "display_name": "Python 3",
   "language": "python",
   "name": "python3"
  },
  "language_info": {
   "codemirror_mode": {
    "name": "ipython",
    "version": 3
   },
   "file_extension": ".py",
   "mimetype": "text/x-python",
   "name": "python",
   "nbconvert_exporter": "python",
   "pygments_lexer": "ipython3",
   "version": "3.5.2"
  }
 },
 "nbformat": 4,
 "nbformat_minor": 2
}
