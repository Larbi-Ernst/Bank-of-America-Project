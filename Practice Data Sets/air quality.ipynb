{
 "cells": [
  {
   "cell_type": "code",
   "execution_count": null,
   "metadata": {
    "slideshow": {
     "slide_type": "-"
    }
   },
   "outputs": [],
   "source": [
    "import pandas as pd\n",
    "%matplotlib inline"
   ]
  },
  {
   "cell_type": "markdown",
   "metadata": {
    "slideshow": {
     "slide_type": "slide"
    }
   },
   "source": [
    "# Air quality data"
   ]
  },
  {
   "cell_type": "code",
   "execution_count": null,
   "metadata": {
    "slideshow": {
     "slide_type": "-"
    }
   },
   "outputs": [],
   "source": [
    "aq = pd.read_csv(\"air-quality-london-monthly-averages.csv\")\n",
    "aq.head(4)"
   ]
  },
  {
   "cell_type": "markdown",
   "metadata": {
    "slideshow": {
     "slide_type": "subslide"
    }
   },
   "source": [
    "*What does NaN mean?*\n",
    "\n",
    "*Are there any other problems with this table?*"
   ]
  },
  {
   "cell_type": "code",
   "execution_count": null,
   "metadata": {
    "slideshow": {
     "slide_type": "subslide"
    }
   },
   "outputs": [],
   "source": [
    "# Let's see what pandas thinks the data are?\n",
    "aq.dtypes"
   ]
  },
  {
   "cell_type": "markdown",
   "metadata": {
    "slideshow": {
     "slide_type": "slide"
    }
   },
   "source": [
    "## MAKING THE MONTH COLUMN INTO A DATE INDEX\n",
    "Documentation for the format string: https://docs.python.org/3.5/library/datetime.html?format#strftime-strptime-behavior"
   ]
  },
  {
   "cell_type": "code",
   "execution_count": null,
   "metadata": {
    "slideshow": {
     "slide_type": "-"
    }
   },
   "outputs": [],
   "source": [
    "# Test run\n",
    "pd.to_datetime(aq[\"Month\"], format=\"%b-%y\").head(3)"
   ]
  },
  {
   "cell_type": "code",
   "execution_count": null,
   "metadata": {
    "slideshow": {
     "slide_type": "subslide"
    }
   },
   "outputs": [],
   "source": [
    "# That looks better so make it stick\n",
    "aq[\"Month\"] = pd.to_datetime(aq[\"Month\"],format=\"%b-%y\")"
   ]
  },
  {
   "cell_type": "markdown",
   "metadata": {
    "slideshow": {
     "slide_type": "slide"
    }
   },
   "source": [
    "The month column should be the *index* of this data rather than the row number so let's fix that next"
   ]
  },
  {
   "cell_type": "code",
   "execution_count": null,
   "metadata": {
    "slideshow": {
     "slide_type": "-"
    }
   },
   "outputs": [],
   "source": [
    "# Again, test run first\n",
    "aq.set_index(\"Month\").head(2)"
   ]
  },
  {
   "cell_type": "code",
   "execution_count": null,
   "metadata": {
    "slideshow": {
     "slide_type": "subslide"
    }
   },
   "outputs": [],
   "source": [
    "# Looks good so go for it\n",
    "aq = aq.set_index(\"Month\")"
   ]
  },
  {
   "cell_type": "markdown",
   "metadata": {
    "slideshow": {
     "slide_type": "slide"
    }
   },
   "source": [
    "## DOING SOME ACTUAL ANALYSIS\n",
    "\n",
    "Now that initial effort starts to pay off"
   ]
  },
  {
   "cell_type": "code",
   "execution_count": null,
   "metadata": {
    "slideshow": {
     "slide_type": "subslide"
    }
   },
   "outputs": [],
   "source": [
    "# What was the highest Nitric Oxide reading?\n",
    "aq[\"London Mean Background:Nitric Oxide (ug/m3)\"].max()"
   ]
  },
  {
   "cell_type": "code",
   "execution_count": null,
   "metadata": {
    "slideshow": {
     "slide_type": "fragment"
    }
   },
   "outputs": [],
   "source": [
    "# And when was that?\n",
    "aq[\"London Mean Background:Nitric Oxide (ug/m3)\"].idxmax()"
   ]
  },
  {
   "cell_type": "code",
   "execution_count": null,
   "metadata": {
    "slideshow": {
     "slide_type": "subslide"
    }
   },
   "outputs": [],
   "source": [
    "# How is that varying over time?\n",
    "aq[\"London Mean Background:Nitric Oxide (ug/m3)\"].plot()\n",
    "# Note this only works like it does because we made the date the index"
   ]
  },
  {
   "cell_type": "markdown",
   "metadata": {
    "slideshow": {
     "slide_type": "fragment"
    }
   },
   "source": [
    "*Notice anything about this graph?*"
   ]
  },
  {
   "cell_type": "code",
   "execution_count": null,
   "metadata": {
    "slideshow": {
     "slide_type": "subslide"
    }
   },
   "outputs": [],
   "source": [
    "# So let's try a 12 month moving average\n",
    "aq[\"London Mean Background:Nitric Oxide (ug/m3)\"].rolling(window=12).mean().plot()"
   ]
  },
  {
   "cell_type": "markdown",
   "metadata": {
    "slideshow": {
     "slide_type": "fragment"
    }
   },
   "source": [
    "It's kind of misleading to have a $y$-axis that doesn't start from zero, though, isn't it?"
   ]
  },
  {
   "cell_type": "code",
   "execution_count": null,
   "metadata": {
    "slideshow": {
     "slide_type": "subslide"
    }
   },
   "outputs": [],
   "source": [
    "# So let's try a 12 month moving average with a full y-axis\n",
    "aq[\"London Mean Background:Nitric Oxide (ug/m3)\"].rolling(window=12).mean().plot(ylim=(0,40)) "
   ]
  },
  {
   "cell_type": "markdown",
   "metadata": {
    "slideshow": {
     "slide_type": "subslide"
    }
   },
   "source": [
    "## FILTERING\n",
    "There were a lot of NaNs before 2011 so let's just look at data since then."
   ]
  },
  {
   "cell_type": "code",
   "execution_count": null,
   "metadata": {
    "slideshow": {
     "slide_type": "fragment"
    }
   },
   "outputs": [],
   "source": [
    "aq[aq.index>'2011'].head(2)"
   ]
  },
  {
   "cell_type": "code",
   "execution_count": null,
   "metadata": {
    "slideshow": {
     "slide_type": "subslide"
    }
   },
   "outputs": [],
   "source": [
    "# This works on individual columns (series) too\n",
    "aq[\"London Mean Background:Nitric Oxide (ug/m3)\"][aq.index>=\"2011\"].head(3)"
   ]
  },
  {
   "cell_type": "code",
   "execution_count": null,
   "metadata": {
    "slideshow": {
     "slide_type": "subslide"
    }
   },
   "outputs": [],
   "source": [
    "# Back to our plot 12-month moving average plot\n",
    "aq[\"London Mean Background:Nitric Oxide (ug/m3)\"][aq.index>=\"2011\"].rolling(\n",
    "    window=12).mean().plot(ylim=(0,40))"
   ]
  },
  {
   "cell_type": "markdown",
   "metadata": {
    "slideshow": {
     "slide_type": "slide"
    }
   },
   "source": [
    "## CORRELATION\n"
   ]
  },
  {
   "cell_type": "markdown",
   "metadata": {
    "slideshow": {
     "slide_type": "subslide"
    }
   },
   "source": [
    "First visually, using Pandas' `scatter` plot:"
   ]
  },
  {
   "cell_type": "code",
   "execution_count": null,
   "metadata": {
    "slideshow": {
     "slide_type": "-"
    }
   },
   "outputs": [],
   "source": [
    "aq.plot(x=\"London Mean Background:Nitric Oxide (ug/m3)\",y=\"London Mean Background:Nitrogen Dioxide (ug/m3)\",kind=\"scatter\")"
   ]
  },
  {
   "cell_type": "markdown",
   "metadata": {
    "slideshow": {
     "slide_type": "subslide"
    }
   },
   "source": [
    "That looks like a positive correlation.\n",
    "\n",
    "`seaborn` has better correlation plotting tools so let's import that."
   ]
  },
  {
   "cell_type": "code",
   "execution_count": null,
   "metadata": {
    "slideshow": {
     "slide_type": "fragment"
    }
   },
   "outputs": [],
   "source": [
    "import seaborn"
   ]
  },
  {
   "cell_type": "code",
   "execution_count": null,
   "metadata": {
    "slideshow": {
     "slide_type": "subslide"
    }
   },
   "outputs": [],
   "source": [
    "# regression is a related concept to correlation\n",
    "seaborn.regplot(aq[\"London Mean Background:Nitric Oxide (ug/m3)\"],aq[\"London Mean Background:Nitrogen Dioxide (ug/m3)\"])"
   ]
  },
  {
   "cell_type": "markdown",
   "metadata": {
    "slideshow": {
     "slide_type": "subslide"
    }
   },
   "source": [
    "This correlation looks fairly strong. How strong?"
   ]
  },
  {
   "cell_type": "code",
   "execution_count": null,
   "metadata": {
    "slideshow": {
     "slide_type": "subslide"
    }
   },
   "outputs": [],
   "source": [
    "aq[\"London Mean Background:Nitric Oxide (ug/m3)\"].corr(aq[\"London Mean Background:Nitrogen Dioxide (ug/m3)\"])"
   ]
  },
  {
   "cell_type": "markdown",
   "metadata": {
    "slideshow": {
     "slide_type": "-"
    }
   },
   "source": [
    "So as expected, this is a fairly strong positive correlation."
   ]
  },
  {
   "cell_type": "markdown",
   "metadata": {
    "slideshow": {
     "slide_type": "slide"
    }
   },
   "source": [
    "# PRACTICE\n",
    "\n",
    "1. What year was the highest recorded Sulphur Dioxide?\n",
    "1. What was the lowest PM10 reading? When did that happen?\n",
    "1. Is there a correlation between Ozone and Nitric Oxide readings? If so, how strong is it?\n",
    "1. What other options are there for the `kind` argument to `pd.plot()`? What are they for?\n",
    "1. What other plots can `seaborn` create?\n",
    "1. Download some other data of interest. You might have to clean it up in excel and then export to csv."
   ]
  }
 ],
 "metadata": {
  "celltoolbar": "Slideshow",
  "hide_input": false,
  "kernelspec": {
   "display_name": "Python 3",
   "language": "python",
   "name": "python3"
  },
  "language_info": {
   "codemirror_mode": {
    "name": "ipython",
    "version": 3
   },
   "file_extension": ".py",
   "mimetype": "text/x-python",
   "name": "python",
   "nbconvert_exporter": "python",
   "pygments_lexer": "ipython3",
   "version": "3.5.2"
  },
  "livereveal": {
   "theme": "ada",
   "width": "90%"
  }
 },
 "nbformat": 4,
 "nbformat_minor": 1
}
