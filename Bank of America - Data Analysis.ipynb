{
 "cells": [
  {
   "cell_type": "code",
   "execution_count": 1,
   "metadata": {},
   "outputs": [],
   "source": [
    "import pylab,matplotlib as mpl\n",
    "from scipy.stats.stats import pearsonr\n",
    "import numpy as np\n",
    "%matplotlib inline\n",
    "DATA = [7.04,7.45,7.40,7.04,7.54,7.24,7.06,7.15,7.19,7.20,7.03,7.33,7.09,7.30,7.38,7.38,7.24,7.09,7.61,7.29,7.14,7.09,7.18,7.17,7.29,7.52,7.32,7.37,7.03,7.16,7.48,7.33], [3.23,3.33,3.12,2.74,3.21,3.80,3.51,3.92,3.17,3.42,3.91,2.94,3.23,2.60,3.35,3.52,3.53,3.64,3.31,3.57,3.34,3.63,3.78,3.91,3.36,3.32,3.60,3.14,3.51,3.41,3.71,3.51]"
   ]
  },
  {
   "cell_type": "code",
   "execution_count": 2,
   "metadata": {},
   "outputs": [
    {
     "name": "stdout",
     "output_type": "stream",
     "text": [
      "Life satisfaction borough mean 7.2540625\n",
      "Anxiety borough mean 3.4146875\n"
     ]
    }
   ],
   "source": [
    "LS_Mean = np.mean(DATA[0])\n",
    "AN_Mean = np.mean(DATA[1])\n",
    "print(\"Life satisfaction borough mean\",LS_Mean) #Use this value to determine how many values are below average\n",
    "print(\"Anxiety borough mean\",AN_Mean)#Use this value to determine how many values are below average"
   ]
  },
  {
   "cell_type": "code",
   "execution_count": 3,
   "metadata": {},
   "outputs": [
    {
     "name": "stdout",
     "output_type": "stream",
     "text": [
      "Life satisfaction borough standard deviation 0.159958185454\n",
      "Anxiety borough standard deviation 0.30815970266\n"
     ]
    }
   ],
   "source": [
    "LS_SD = np.std(DATA[0])\n",
    "AN_SD = np.std(DATA[1])\n",
    "print(\"Life satisfaction borough standard deviation\",LS_SD)#Use this value to determine outlier boroughs (Life satisfaction)\n",
    "print(\"Anxiety borough standard deviation\",AN_SD)#Use this value to determine outlier boroughs (anxiety)"
   ]
  },
  {
   "cell_type": "code",
   "execution_count": 4,
   "metadata": {},
   "outputs": [
    {
     "data": {
      "text/plain": [
       "<matplotlib.collections.PathCollection at 0x7f82c908b128>"
      ]
     },
     "execution_count": 4,
     "metadata": {},
     "output_type": "execute_result"
    },
    {
     "data": {
      "image/png": "[encoded data removed]",
      "text/plain": [
       "<matplotlib.figure.Figure at 0x7f8307d9e4e0>"
      ]
     },
     "metadata": {},
     "output_type": "display_data"
    }
   ],
   "source": [
    "pylab.xlabel('Anxiety Rating')\n",
    "pylab.ylabel('Life Satisfaction Rating')\n",
    "GRAPH = pylab.scatter(DATA[0],DATA[1])\n",
    "B = pearsonr(x = DATA[0], y = DATA[1]) \n",
    "GRAPH"
   ]
  },
  {
   "cell_type": "code",
   "execution_count": 5,
   "metadata": {},
   "outputs": [
    {
     "name": "stdout",
     "output_type": "stream",
     "text": [
      "NEGATIVE CORRELATION\n",
      "Correlation of -0.662073923774\n"
     ]
    }
   ],
   "source": [
    "Correlation = B[0]/B[1] #Determines the correlation\n",
    "#pylab.plot(Correlation)\n",
    "if Correlation < 0:\n",
    "    print(\"NEGATIVE CORRELATION\")\n",
    "elif Correlation > 0:\n",
    "    print(\"POSTIVE CORRELATION\")\n",
    "else:\n",
    "    print(\"No correlation\")\n",
    "print(\"Correlation of\",Correlation)"
   ]
  },
  {
   "cell_type": "code",
   "execution_count": 6,
   "metadata": {},
   "outputs": [
    {
     "name": "stdout",
     "output_type": "stream",
     "text": [
      "High outlier values of life satisfaction [7.61]\n",
      "High outlier values of anxiety []\n"
     ]
    }
   ],
   "source": [
    "LS_Outliers_High = [item for item in DATA[0] if item > LS_Mean+(LS_SD*2)]\n",
    "AN_Outliers_High = [item for item in DATA[1] if item > AN_Mean+(AN_SD*2)]\n",
    "print(\"High outlier values of life satisfaction\",LS_Outliers_High)\n",
    "print(\"High outlier values of anxiety\",AN_Outliers_High)"
   ]
  },
  {
   "cell_type": "code",
   "execution_count": 7,
   "metadata": {},
   "outputs": [
    {
     "name": "stdout",
     "output_type": "stream",
     "text": [
      "Low outlier values of life satisfaction []\n",
      "Low outlier values of anxiety [2.74, 2.6]\n"
     ]
    }
   ],
   "source": [
    "LS_Outliers_Low = [item for item in DATA[0] if item < LS_Mean - (LS_SD*2)]\n",
    "AN_Outliers_Low = [item for item in DATA[1] if item < AN_Mean - (AN_SD*2)]\n",
    "print(\"Low outlier values of life satisfaction\",LS_Outliers_Low)\n",
    "print(\"Low outlier values of anxiety\",AN_Outliers_Low)"
   ]
  },
  {
   "cell_type": "markdown",
   "metadata": {},
   "source": [
    "# Outliers boroughs in Life satisfaction rating:\n",
    "### Boroughs with life satisfaction rating values higher than expected \n",
    "<ol>\n",
    "  <li>Kensington and Chelsea - With a life satisfaction value of 7.61</li>   </ol>\n",
    "### Boroughs with life satisfactions rating values lower than expected\n",
    "###### No borough with low outlier value of life satisfaction rating"
   ]
  },
  {
   "cell_type": "markdown",
   "metadata": {},
   "source": [
    "# Outliers boroughs in Anxiety rating\n",
    "### Boroughs with anxiety rating values higher than expected \n",
    "###### No borough with high outlier value of anxiety rating\n",
    "### Boroughs with anxiety rating values lower than expected\n",
    "<ol>\n",
    "  <li>Borough of Harrow - With a anixety rating of 2.6 </li>\n",
    "  <li>Borough of Brent - With a anxiety rating 2.74 </ol>\n",
    "   "
   ]
  },
  {
   "cell_type": "code",
   "execution_count": null,
   "metadata": {},
   "outputs": [],
   "source": []
  }
 ],
 "metadata": {
  "kernelspec": {
   "display_name": "Python 3",
   "language": "python",
   "name": "python3"
  },
  "language_info": {
   "codemirror_mode": {
    "name": "ipython",
    "version": 3
   },
   "file_extension": ".py",
   "mimetype": "text/x-python",
   "name": "python",
   "nbconvert_exporter": "python",
   "pygments_lexer": "ipython3",
   "version": "3.6.6"
  }
 },
 "nbformat": 4,
 "nbformat_minor": 2
}
